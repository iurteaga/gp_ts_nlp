{
 "cells": [
  {
   "cell_type": "code",
   "execution_count": null,
   "id": "8cc08152",
   "metadata": {},
   "outputs": [],
   "source": [
    "# Imports: python modules\n",
    "import sys, os, re, time\n",
    "import timeit\n",
    "from configparser import ConfigParser\n",
    "# Science\n",
    "import numpy as np\n",
    "import scipy.stats as stats"
   ]
  },
  {
   "cell_type": "code",
   "execution_count": null,
   "id": "f736bf1f",
   "metadata": {},
   "outputs": [],
   "source": [
    "# Imports: our own modules\n",
    "# Add path\n",
    "sys.path.append('../../bandits')\n",
    "# Aux functions\n",
    "from aux_functions import *\n",
    "# Bandit modules\n",
    "from bandits import *\n",
    "from bandit_plotting import *\n",
    "from bandit_environments import *\n",
    "from bandit_reward_models import * \n",
    "\n",
    "# GP models\n",
    "from gp_models import *"
   ]
  },
  {
   "cell_type": "markdown",
   "id": "6547ebdc",
   "metadata": {},
   "source": [
    "# Useful bandit execution for later use"
   ]
  },
  {
   "cell_type": "code",
   "execution_count": null,
   "id": "6389a3ec",
   "metadata": {},
   "outputs": [],
   "source": [
    "def execute_bandit(bandit, environment, n_bandit_interactions):\n",
    "    for t in np.arange(n_bandit_interactions):\n",
    "        print('Bandit interaction t={}'.format(t))\n",
    "        # Decide next arm\n",
    "        #t_init=time.time()\n",
    "        a_t=bandit.next_action()\n",
    "        #print('\\t next action decided in {}s'.format(time.time()-t_init))\n",
    "        \n",
    "        # Play selected arm and observe reward\n",
    "        #t_init=time.time()\n",
    "        y_t=environment.play(a_t)\n",
    "        #print('\\t action played in {}s'.format(time.time()-t_init))\n",
    "\n",
    "        # Update history\n",
    "        #t_init=time.time()\n",
    "        bandit.update_history(\n",
    "                played_arm=a_t,\n",
    "                observed_reward=y_t\n",
    "                )\n",
    "        #print('\\t bandit updated in {}s'.format(time.time()-t_init))\n",
    "        \n",
    "    return bandit"
   ]
  },
  {
   "cell_type": "markdown",
   "id": "2aa55b45",
   "metadata": {},
   "source": [
    "# Bandit"
   ]
  },
  {
   "cell_type": "markdown",
   "id": "0ca0546b",
   "metadata": {},
   "source": [
    "## Arm space"
   ]
  },
  {
   "cell_type": "code",
   "execution_count": null,
   "id": "7498abde",
   "metadata": {},
   "outputs": [],
   "source": [
    "# n points\n",
    "n_arm_points=100\n",
    "a_points=torch.linspace(0,1,n_arm_points+1) # Equal spaced\n",
    "# Dimensionality\n",
    "d_arms=1\n",
    "per_arm_meshgrid=torch.meshgrid([a_points]*d_arms)\n",
    "a=torch.stack(per_arm_meshgrid, axis=-1).reshape(-1, d_arms) # n_points in dim==1"
   ]
  },
  {
   "cell_type": "markdown",
   "id": "ad7420dc",
   "metadata": {},
   "source": [
    "## True bandit reward model"
   ]
  },
  {
   "cell_type": "code",
   "execution_count": null,
   "id": "0f4ac054",
   "metadata": {},
   "outputs": [],
   "source": [
    "true_bandit_environment=ContinuousLinearGaussianBanditModel(\n",
    "                slope=1,\n",
    "                intercept=0,\n",
    "                noise_var=0.1\n",
    "        )"
   ]
  },
  {
   "cell_type": "code",
   "execution_count": null,
   "id": "62094b47",
   "metadata": {},
   "outputs": [],
   "source": [
    "optimal_arm = true_bandit_environment.optimal_arm(a)"
   ]
  },
  {
   "cell_type": "markdown",
   "id": "f69db236",
   "metadata": {},
   "source": [
    "## Our Bandit"
   ]
  },
  {
   "cell_type": "markdown",
   "id": "858ab451",
   "metadata": {},
   "source": [
    "### GP based bandit"
   ]
  },
  {
   "cell_type": "code",
   "execution_count": null,
   "id": "efe0ff60",
   "metadata": {},
   "outputs": [],
   "source": [
    "# GP configuration\n",
    "gp_config_filename='gp_config.ini'\n",
    "# Based on config parser\n",
    "gp_config = ConfigParser()\n",
    "gp_config.read('../gp_configs/{}'.format(gp_config_filename))\n"
   ]
  },
  {
   "cell_type": "code",
   "execution_count": null,
   "id": "9bd9d032",
   "metadata": {},
   "outputs": [],
   "source": [
    "# GP model definition (without training input/output yet) from config\n",
    "gp_model=ExactGPModel(\n",
    "                a=None,\n",
    "                y=None,\n",
    "                mean_function=eval(gp_config.get('gp_model', 'mean_function')),\n",
    "                kernel_function=eval(gp_config.get('gp_model', 'kernel_function')),\n",
    "                likelihood=eval(gp_config.get('gp_model', 'llh_function')),\n",
    "            )"
   ]
  },
  {
   "cell_type": "code",
   "execution_count": null,
   "id": "52df7a0c",
   "metadata": {},
   "outputs": [],
   "source": [
    "# GP training options, from config\n",
    "gp_training_options={\n",
    "        'loss':eval(\n",
    "                gp_config.get(\n",
    "                        'training',\n",
    "                        'loss',\n",
    "                        fallback='gpytorch.mlls.ExactMarginalLogLikelihood()')\n",
    "                   ),\n",
    "        'n_train_max_iters':gp_config.getint(\n",
    "                        'training',\n",
    "                        'n_train_max_iters',\n",
    "                        fallback=100),\n",
    "        'loss_epsilon':gp_config.getfloat(\n",
    "                        'training',\n",
    "                        'loss_epsilon',\n",
    "                        fallback=0.01),\n",
    "        'optimizer':gp_config.get(\n",
    "                        'training',\n",
    "                        'optimizer',\n",
    "                        fallback=torch.optim.Adam),\n",
    "        'optimizer_params':cast_dict_values(\n",
    "                            gp_config._sections['optimization_params'],\n",
    "                            float\n",
    "                            ),\n",
    "    }"
   ]
  },
  {
   "cell_type": "code",
   "execution_count": null,
   "id": "50c3907b",
   "metadata": {},
   "outputs": [],
   "source": [
    "# Bandit reward model, from config\n",
    "bandit_reward_model=GPRewardModel(\n",
    "        gp_model=gp_model,\n",
    "        likelihood_model=eval(\n",
    "                            gp_config.get('gp_model', 'llh_function')\n",
    "                            ),\n",
    "        gp_training=gp_training_options,\n",
    "        )"
   ]
  },
  {
   "cell_type": "markdown",
   "id": "89d43710",
   "metadata": {},
   "source": [
    "### Bandit algorithm: Thompson sampling"
   ]
  },
  {
   "cell_type": "code",
   "execution_count": null,
   "id": "e91eefa2",
   "metadata": {},
   "outputs": [],
   "source": [
    "# Thompson sampling \n",
    "ts_algorithm={\n",
    "    'name':'ThompsonSampling'\n",
    "}"
   ]
  },
  {
   "cell_type": "code",
   "execution_count": null,
   "id": "66a02696",
   "metadata": {},
   "outputs": [],
   "source": [
    "# Instantiate bandit class\n",
    "ts_bandit=ContinuousArmBandit(\n",
    "            arm_space=a,\n",
    "            reward_model=bandit_reward_model,\n",
    "            algorithm=ts_algorithm\n",
    "            )"
   ]
  },
  {
   "cell_type": "markdown",
   "id": "39ebf708",
   "metadata": {},
   "source": [
    "# One bandit execution"
   ]
  },
  {
   "cell_type": "code",
   "execution_count": null,
   "id": "1d67c3b3",
   "metadata": {},
   "outputs": [],
   "source": [
    "# Number of interactions\n",
    "n_bandit_interactions=250"
   ]
  },
  {
   "cell_type": "code",
   "execution_count": null,
   "id": "7d749b6b",
   "metadata": {},
   "outputs": [],
   "source": [
    "# Optimal reward can be pre-computed\n",
    "optimal_expected_rewards = true_bandit_environment.mean(\n",
    "                            optimal_arm*torch.ones((1,n_bandit_interactions))\n",
    "                        )"
   ]
  },
  {
   "cell_type": "code",
   "execution_count": null,
   "id": "0157a07d",
   "metadata": {},
   "outputs": [],
   "source": [
    "# Execute bandit, for n_bandit_interaction\n",
    "ts_bandit.restart(n_bandit_interactions)\n",
    "ts_bandit = execute_bandit(ts_bandit, true_bandit_environment, n_bandit_interactions)"
   ]
  },
  {
   "cell_type": "code",
   "execution_count": null,
   "id": "52fbca4a",
   "metadata": {},
   "outputs": [],
   "source": [
    "print(optimal_arm==ts_bandit.played_arms)\n",
    "print(torch.sum(optimal_arm==ts_bandit.played_arms)/n_bandit_interactions)"
   ]
  },
  {
   "cell_type": "code",
   "execution_count": null,
   "id": "7f7d4684",
   "metadata": {},
   "outputs": [],
   "source": []
  },
  {
   "cell_type": "markdown",
   "id": "0dfdbe15",
   "metadata": {},
   "source": [
    "# Multiple bandit realizations"
   ]
  },
  {
   "cell_type": "code",
   "execution_count": null,
   "id": "d9be6994",
   "metadata": {},
   "outputs": [],
   "source": [
    "# Number of interactions\n",
    "n_bandit_interactions=250\n",
    "# Optimal reward can be pre-computed\n",
    "optimal_expected_rewards = true_bandit_environment.mean(\n",
    "                            optimal_arm*torch.ones((1,n_bandit_interactions))\n",
    "                        )\n",
    "# Number of realizations\n",
    "R=100\n",
    "# Bandit arms and rewards for all realizations\n",
    "played_arms=np.zeros((R,n_bandit_interactions,d_arms))\n",
    "observed_rewards=np.zeros((R,n_bandit_interactions))\n",
    "\n",
    "# Run realizations of bandits\n",
    "for r in np.arange(R):\n",
    "    print('************ r={}/{} **************'.format(r,R))\n",
    "    # Restart bandit\n",
    "    ts_bandit.restart(n_bandit_interactions)\n",
    "    # Execute bandit realization\n",
    "    this_bandit = execute_bandit(ts_bandit, true_bandit_environment, n_bandit_interactions)\n",
    "    # Keep played arms and observed rewards\n",
    "    played_arms[r]=this_bandit.played_arms\n",
    "    observed_rewards[r]=this_bandit.observed_rewards\n",
    "    print('**********************************'.format(r,R))"
   ]
  },
  {
   "cell_type": "code",
   "execution_count": null,
   "id": "00f2d3ef",
   "metadata": {},
   "outputs": [],
   "source": [
    "# Plotting\n",
    "plot_rewards(observed_rewards, optimal_expected_rewards, n_bandit_interactions)\n",
    "plot_cumrewards(observed_rewards, optimal_expected_rewards, n_bandit_interactions)\n",
    "plot_cumregret(observed_rewards, optimal_expected_rewards, n_bandit_interactions)\n",
    "\n",
    "# Plotting (saved)\n",
    "fig_dir='./figs_GPBandit_linear_Gaussian'\n",
    "os.makedirs(fig_dir, exist_ok=True)\n",
    "plot_rewards(\n",
    "    observed_rewards,\n",
    "    optimal_expected_rewards,\n",
    "    n_bandit_interactions,\n",
    "    plot_filename='{}/rewards_ts_R{}.pdf'.format(fig_dir, R),\n",
    ")\n",
    "plot_cumregret(observed_rewards,\n",
    "    optimal_expected_rewards,\n",
    "    n_bandit_interactions,\n",
    "    plot_filename='{}/cum_regret_ts_R{}.pdf'.format(fig_dir, R),\n",
    ")"
   ]
  },
  {
   "cell_type": "code",
   "execution_count": null,
   "id": "9b7ae798",
   "metadata": {},
   "outputs": [],
   "source": []
  },
  {
   "cell_type": "markdown",
   "id": "f106a0c8",
   "metadata": {},
   "source": [
    "### Bandit algorithm: UCB"
   ]
  },
  {
   "cell_type": "code",
   "execution_count": null,
   "id": "a482ade8",
   "metadata": {},
   "outputs": [],
   "source": [
    "# Time-varying beta function to use\n",
    "# Update beta functions as per guidelines here:\n",
    "#   https://arxiv.org/abs/0912.3995\n",
    "#   https://papers.nips.cc/paper/2011/file/f3f1b7fc5a8779a9e618e1f23a7b7860-Paper.pdf\n",
    "def beta_function(t,D=1,delta=0.01):\n",
    "    return 2*torch.log(\n",
    "                D*torch.pow(torch.tensor((t+1)*np.pi),2)/(6*delta)\n",
    "            )"
   ]
  },
  {
   "cell_type": "code",
   "execution_count": null,
   "id": "8a768b8f",
   "metadata": {},
   "outputs": [],
   "source": [
    "# UCB \n",
    "ucb_algorithm={\n",
    "    'name':'UCB',\n",
    "    'beta':beta_function\n",
    "}"
   ]
  },
  {
   "cell_type": "code",
   "execution_count": null,
   "id": "e401ae7e",
   "metadata": {},
   "outputs": [],
   "source": [
    "# Instantiate bandit class\n",
    "ucb_bandit=ContinuousArmBandit(\n",
    "            arm_space=a,\n",
    "            reward_model=bandit_reward_model,\n",
    "            algorithm=ucb_algorithm\n",
    "            )"
   ]
  },
  {
   "cell_type": "markdown",
   "id": "55718d54",
   "metadata": {},
   "source": [
    "# Multiple bandit realizations"
   ]
  },
  {
   "cell_type": "code",
   "execution_count": null,
   "id": "f20c0d58",
   "metadata": {},
   "outputs": [],
   "source": [
    "# Number of interactions\n",
    "n_bandit_interactions=250\n",
    "# Optimal reward can be pre-computed\n",
    "optimal_expected_rewards = true_bandit_environment.mean(\n",
    "                            optimal_arm*torch.ones((1,n_bandit_interactions))\n",
    "                        )\n",
    "# Number of realizations\n",
    "R=100\n",
    "# Bandit arms and rewards for all realizations\n",
    "played_arms=np.zeros((R,n_bandit_interactions,d_arms))\n",
    "observed_rewards=np.zeros((R,n_bandit_interactions))\n",
    "\n",
    "# Run realizations of bandits\n",
    "for r in np.arange(R):\n",
    "    print('************ r={}/{} **************'.format(r,R))\n",
    "    # Restart bandit\n",
    "    ucb_bandit.restart(n_bandit_interactions)\n",
    "    # Execute bandit realization\n",
    "    this_bandit = execute_bandit(ucb_bandit, true_bandit_environment, n_bandit_interactions)\n",
    "    # Keep played arms and observed rewards\n",
    "    played_arms[r]=this_bandit.played_arms\n",
    "    observed_rewards[r]=this_bandit.observed_rewards\n",
    "    print('**********************************'.format(r,R))"
   ]
  },
  {
   "cell_type": "code",
   "execution_count": null,
   "id": "e98db9dc",
   "metadata": {
    "scrolled": true
   },
   "outputs": [],
   "source": [
    "# Plotting\n",
    "plot_rewards(observed_rewards, optimal_expected_rewards, n_bandit_interactions)\n",
    "plot_cumrewards(observed_rewards, optimal_expected_rewards, n_bandit_interactions)\n",
    "plot_cumregret(observed_rewards, optimal_expected_rewards, n_bandit_interactions)\n",
    "\n",
    "# Plotting (saved)\n",
    "fig_dir='./figs_GPBandit_linear_Gaussian'\n",
    "os.makedirs(fig_dir, exist_ok=True)\n",
    "plot_rewards(\n",
    "    observed_rewards,\n",
    "    optimal_expected_rewards,\n",
    "    n_bandit_interactions,\n",
    "    plot_filename='{}/rewards_ucb_R{}.pdf'.format(fig_dir, R),\n",
    ")\n",
    "plot_cumregret(observed_rewards,\n",
    "    optimal_expected_rewards,\n",
    "    n_bandit_interactions,\n",
    "    plot_filename='{}/cum_regret_ucb_R{}.pdf'.format(fig_dir, R),\n",
    ")"
   ]
  },
  {
   "cell_type": "code",
   "execution_count": null,
   "id": "55df61ec",
   "metadata": {},
   "outputs": [],
   "source": []
  }
 ],
 "metadata": {
  "kernelspec": {
   "display_name": "Python 3",
   "language": "python",
   "name": "python3"
  },
  "language_info": {
   "codemirror_mode": {
    "name": "ipython",
    "version": 3
   },
   "file_extension": ".py",
   "mimetype": "text/x-python",
   "name": "python",
   "nbconvert_exporter": "python",
   "pygments_lexer": "ipython3",
   "version": "3.8.10"
  }
 },
 "nbformat": 4,
 "nbformat_minor": 5
}
