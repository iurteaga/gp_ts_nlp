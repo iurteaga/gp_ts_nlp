{
 "cells": [
  {
   "cell_type": "code",
   "execution_count": null,
   "id": "43bbf51e",
   "metadata": {},
   "outputs": [],
   "source": [
    "# Imports: python modules\n",
    "import sys, os, re, time\n",
    "import timeit\n",
    "from configparser import ConfigParser\n",
    "# Science\n",
    "import numpy as np\n",
    "import scipy.stats as stats\n",
    "import matplotlib.pyplot as plt"
   ]
  },
  {
   "cell_type": "code",
   "execution_count": null,
   "id": "22661d29",
   "metadata": {},
   "outputs": [],
   "source": [
    "# Imports: our own modules\n",
    "# Add path\n",
    "sys.path.append('../../bandits')\n",
    "# Aux functions\n",
    "from aux_functions import *\n",
    "# Bandit modules\n",
    "from bandits import *\n",
    "from bandit_plotting import *\n",
    "from bandit_environments import *\n",
    "from bandit_reward_models import * \n",
    "\n",
    "# GP models\n",
    "from gp_models import *"
   ]
  },
  {
   "cell_type": "markdown",
   "id": "ead09f33",
   "metadata": {},
   "source": [
    "# Useful bandit execution for later use"
   ]
  },
  {
   "cell_type": "code",
   "execution_count": null,
   "id": "93052080",
   "metadata": {},
   "outputs": [],
   "source": [
    "def execute_contextual_bandit(my_bandit, environment, n_bandit_interactions, context):\n",
    "    for t in np.arange(n_bandit_interactions):\n",
    "        print('Bandit interaction t={}'.format(t))\n",
    "        \n",
    "        # Decide next arm\n",
    "        #t_init=time.time()\n",
    "        a_t=my_bandit.next_action(context[t])\n",
    "        #print('\\t next action decided in {}s'.format(time.time()-t_init))\n",
    "        \n",
    "        # Play selected arm and observe reward\n",
    "        #t_init=time.time()\n",
    "        y_t=environment.play(a_t,context[t])\n",
    "        #print('\\t action played in {}s'.format(time.time()-t_init))\n",
    "\n",
    "        # Update history\n",
    "        #t_init=time.time()\n",
    "        my_bandit.update_history(\n",
    "                observed_context=context[t],\n",
    "                played_arm=a_t,\n",
    "                observed_reward=y_t\n",
    "                )\n",
    "        #print('\\t bandit updated in {}s'.format(time.time()-t_init))\n",
    "        \n",
    "    return my_bandit"
   ]
  },
  {
   "cell_type": "markdown",
   "id": "c08d3786",
   "metadata": {},
   "source": [
    "# Bandit"
   ]
  },
  {
   "cell_type": "markdown",
   "id": "552a5100",
   "metadata": {},
   "source": [
    "## Arm space"
   ]
  },
  {
   "cell_type": "code",
   "execution_count": null,
   "id": "09e1a74c",
   "metadata": {},
   "outputs": [],
   "source": [
    "# n points\n",
    "n_arm_points=100\n",
    "a_points=torch.linspace(0,1,n_arm_points+1) # Equal spaced\n",
    "# Dimensionality\n",
    "d_arms=2\n",
    "per_arm_meshgrid=torch.meshgrid([a_points]*d_arms)\n",
    "a=torch.stack(per_arm_meshgrid, axis=-1).reshape(-1, d_arms) # n_points in dim==1\n",
    "# Context space \n",
    "# For now, d_contex==d_arm\n",
    "d_context=d_arms"
   ]
  },
  {
   "cell_type": "markdown",
   "id": "aafb86e1",
   "metadata": {},
   "source": [
    "## True bandit reward model"
   ]
  },
  {
   "cell_type": "code",
   "execution_count": null,
   "id": "2d41eb5b",
   "metadata": {},
   "outputs": [],
   "source": [
    "true_bandit_environment=ContinuousContextualLinearGaussianBanditModel(\n",
    "                slope=1,\n",
    "                intercept=0,\n",
    "                noise_var=0.1\n",
    "        )"
   ]
  },
  {
   "cell_type": "markdown",
   "id": "5f79a12a",
   "metadata": {},
   "source": [
    "## Our Bandit"
   ]
  },
  {
   "cell_type": "markdown",
   "id": "804c3fb1",
   "metadata": {},
   "source": [
    "### GP based bandit"
   ]
  },
  {
   "cell_type": "code",
   "execution_count": null,
   "id": "e6f14a58",
   "metadata": {},
   "outputs": [],
   "source": [
    "# GP configuration\n",
    "gp_config_filename='contextual_gp_config.ini'\n",
    "# Based on config parser\n",
    "gp_config = ConfigParser()\n",
    "gp_config.read('../gp_configs/{}'.format(gp_config_filename))\n"
   ]
  },
  {
   "cell_type": "code",
   "execution_count": null,
   "id": "760650b5",
   "metadata": {},
   "outputs": [],
   "source": [
    "# GP model definition (without training input/output yet) from config\n",
    "gp_model=ExactContextualGPModel(\n",
    "                        gp_input=None, y=None,\n",
    "                        d_context=d_context,\n",
    "                        mean_functions=load_gp_functions_to_dict(gp_config, 'mean_functions'),\n",
    "                        kernel_functions=load_gp_functions_to_dict(gp_config, 'kernel_functions'),\n",
    "                        action_context_composition=gp_config.get(\n",
    "                                    'gp_model','action_context_composition',fallback='add'\n",
    "                                    ),\n",
    "                        likelihood=eval(gp_config.get('gp_model', 'llh_function')),\n",
    "                    )"
   ]
  },
  {
   "cell_type": "code",
   "execution_count": null,
   "id": "90a2d638",
   "metadata": {},
   "outputs": [],
   "source": [
    "# GP training options, from config\n",
    "gp_training_options={\n",
    "        'loss':eval(\n",
    "                gp_config.get(\n",
    "                        'training',\n",
    "                        'loss',\n",
    "                        fallback='gpytorch.mlls.ExactMarginalLogLikelihood()')\n",
    "                   ),\n",
    "        'n_train_max_iters':gp_config.getint(\n",
    "                        'training',\n",
    "                        'n_train_max_iters',\n",
    "                        fallback=100),\n",
    "        'loss_epsilon':gp_config.getfloat(\n",
    "                        'training',\n",
    "                        'loss_epsilon',\n",
    "                        fallback=0.01),\n",
    "        'optimizer':gp_config.get(\n",
    "                        'training',\n",
    "                        'optimizer',\n",
    "                        fallback=torch.optim.Adam),\n",
    "        'optimizer_params':cast_dict_values(\n",
    "                            gp_config._sections['optimization_params'],\n",
    "                            float\n",
    "                            ),\n",
    "    }"
   ]
  },
  {
   "cell_type": "code",
   "execution_count": null,
   "id": "4224d583",
   "metadata": {},
   "outputs": [],
   "source": [
    "# Bandit reward model, from config\n",
    "bandit_reward_model=GPContextualRewardModel(\n",
    "        gp_model=gp_model,\n",
    "        likelihood_model=eval(\n",
    "                            gp_config.get('gp_model', 'llh_function')\n",
    "                            ),\n",
    "        gp_training=gp_training_options,\n",
    "        )"
   ]
  },
  {
   "cell_type": "markdown",
   "id": "4fbf88d5",
   "metadata": {},
   "source": [
    "### Bandit algorithm"
   ]
  },
  {
   "cell_type": "code",
   "execution_count": null,
   "id": "0f9e6682",
   "metadata": {},
   "outputs": [],
   "source": [
    "# Thompson sampling \n",
    "ts_algorithm={'name':'ThompsonSampling'}"
   ]
  },
  {
   "cell_type": "code",
   "execution_count": null,
   "id": "f4a3b7c6",
   "metadata": {},
   "outputs": [],
   "source": [
    "# Instantiate bandit class\n",
    "ts_bandit=ContinuousArmContextualBandit(\n",
    "            d_context=d_context,\n",
    "            arm_space=a,\n",
    "            reward_model=bandit_reward_model,\n",
    "            algorithm=ts_algorithm\n",
    "            )"
   ]
  },
  {
   "cell_type": "markdown",
   "id": "1ad23009",
   "metadata": {},
   "source": [
    "# One bandit execution"
   ]
  },
  {
   "cell_type": "code",
   "execution_count": null,
   "id": "28df6087",
   "metadata": {},
   "outputs": [],
   "source": [
    "# Number of interactions\n",
    "n_bandit_interactions=250"
   ]
  },
  {
   "cell_type": "code",
   "execution_count": null,
   "id": "adc6ced9",
   "metadata": {},
   "outputs": [],
   "source": [
    "# context\n",
    "context=torch.ones((n_bandit_interactions,d_context)) # Non-sensincal context\n",
    "#context=torch.arange(n_bandit_interactions)*torch.ones((1,d_context)) # Increasing context"
   ]
  },
  {
   "cell_type": "code",
   "execution_count": null,
   "id": "c2443031",
   "metadata": {},
   "outputs": [],
   "source": [
    "# optimal arm \n",
    "optimal_arm = true_bandit_environment.optimal_arm(a,context[:,None,:]) # One more dimension to pick arm per bandit interaction\n",
    "# Optimal reward can be pre-computed\n",
    "optimal_expected_rewards = true_bandit_environment.mean(\n",
    "                            optimal_arm,\n",
    "                            context\n",
    "                        )"
   ]
  },
  {
   "cell_type": "code",
   "execution_count": null,
   "id": "4b2f048e",
   "metadata": {},
   "outputs": [],
   "source": [
    "# Execute bandit\n",
    "ts_bandit.restart(n_bandit_interactions)\n",
    "ts_bandit = execute_contextual_bandit(ts_bandit, true_bandit_environment, n_bandit_interactions, context)"
   ]
  },
  {
   "cell_type": "code",
   "execution_count": null,
   "id": "b839209d",
   "metadata": {},
   "outputs": [],
   "source": [
    "ts_bandit.played_arms.shape"
   ]
  },
  {
   "cell_type": "code",
   "execution_count": null,
   "id": "3bf46cd9",
   "metadata": {},
   "outputs": [],
   "source": [
    "print(optimal_arm==ts_bandit.played_arms)\n",
    "print(torch.sum(optimal_arm==ts_bandit.played_arms)/n_bandit_interactions)"
   ]
  },
  {
   "cell_type": "markdown",
   "id": "b5fcd6a5",
   "metadata": {},
   "source": [
    "# Multiple bandit realizations"
   ]
  },
  {
   "cell_type": "code",
   "execution_count": null,
   "id": "bffaf77c",
   "metadata": {},
   "outputs": [],
   "source": [
    "# Number of interactions\n",
    "n_bandit_interactions=250\n",
    "\n",
    "# context\n",
    "context=torch.ones((n_bandit_interactions,d_context)) # Non-sensincal context\n",
    "#context=torch.arange(n_bandit_interactions)*torch.ones((1,d_context)) # Increasing context\n",
    "\n",
    "# optimal arm \n",
    "optimal_arm = true_bandit_environment.optimal_arm(a,context[:,None,:]) # One more dimension to pick arm per bandit interaction\n",
    "# Optimal reward can be pre-computed\n",
    "optimal_expected_rewards = true_bandit_environment.mean(\n",
    "                            optimal_arm,\n",
    "                            context\n",
    "                        )[None,:]\n",
    "# Number of realizations\n",
    "R=10\n",
    "# Bandit arms and rewards for all realizations\n",
    "played_arms=np.zeros((R,n_bandit_interactions,d_arms))\n",
    "observed_rewards=np.zeros((R,n_bandit_interactions))\n",
    "\n",
    "# Run realizations of bandits\n",
    "for r in np.arange(R):\n",
    "    print('************ r={}/{} **************'.format(r,R))\n",
    "    # Restart bandit\n",
    "    ts_bandit.restart(n_bandit_interactions)\n",
    "    # Execute bandit realization\n",
    "    this_bandit = execute_contextual_bandit(ts_bandit, true_bandit_environment, n_bandit_interactions, context)\n",
    "    # Keep played arms and observed rewards\n",
    "    played_arms[r]=this_bandit.played_arms\n",
    "    observed_rewards[r]=this_bandit.observed_rewards\n",
    "    print('**********************************'.format(r,R))"
   ]
  },
  {
   "cell_type": "code",
   "execution_count": null,
   "id": "9ced245f",
   "metadata": {},
   "outputs": [],
   "source": [
    "# Plotting\n",
    "plot_rewards(observed_rewards, optimal_expected_rewards, n_bandit_interactions)\n",
    "plot_cumrewards(observed_rewards, optimal_expected_rewards, n_bandit_interactions)\n",
    "plot_cumregret(observed_rewards, optimal_expected_rewards, n_bandit_interactions)\n",
    "\n",
    "# Plotting (saved)\n",
    "fig_dir='./figs_ContextualGPBandit_linear_Gaussian'\n",
    "os.makedirs(fig_dir, exist_ok=True)\n",
    "plot_rewards(\n",
    "    observed_rewards,\n",
    "    optimal_expected_rewards,\n",
    "    n_bandit_interactions,\n",
    "    plot_filename='{}/rewards_ts_R{}.pdf'.format(fig_dir, R),\n",
    ")\n",
    "plot_cumregret(observed_rewards,\n",
    "    optimal_expected_rewards,\n",
    "    n_bandit_interactions,\n",
    "    plot_filename='{}/cum_regret_ts_R{}.pdf'.format(fig_dir, R),\n",
    ")\n"
   ]
  },
  {
   "cell_type": "code",
   "execution_count": null,
   "id": "062837eb",
   "metadata": {},
   "outputs": [],
   "source": []
  },
  {
   "cell_type": "markdown",
   "id": "614421f1",
   "metadata": {},
   "source": [
    "### Bandit algorithm: UCB¶"
   ]
  },
  {
   "cell_type": "code",
   "execution_count": null,
   "id": "741e0993",
   "metadata": {},
   "outputs": [],
   "source": [
    "# Time-varying beta function to use\n",
    "# Update beta functions as per guidelines here:\n",
    "#   https://arxiv.org/abs/0912.3995\n",
    "#   https://papers.nips.cc/paper/2011/file/f3f1b7fc5a8779a9e618e1f23a7b7860-Paper.pdf\n",
    "def beta_function(t,D=1,delta=0.01):\n",
    "    return 2*torch.log(\n",
    "                D*torch.pow(torch.tensor((t+1)*np.pi),2)/(6*delta)\n",
    "            )"
   ]
  },
  {
   "cell_type": "code",
   "execution_count": null,
   "id": "de388af2",
   "metadata": {},
   "outputs": [],
   "source": [
    "# UCB\n",
    "ucb_algorithm={\n",
    "    'name':'UCB',\n",
    "    'beta':beta_function\n",
    "}"
   ]
  },
  {
   "cell_type": "code",
   "execution_count": null,
   "id": "7de39dec",
   "metadata": {},
   "outputs": [],
   "source": [
    "# Instantiate bandit class\n",
    "ucb_bandit=ContinuousArmContextualBandit(\n",
    "            d_context=d_context,\n",
    "            arm_space=a,\n",
    "            reward_model=bandit_reward_model,\n",
    "            algorithm=ucb_algorithm\n",
    "            )"
   ]
  },
  {
   "cell_type": "code",
   "execution_count": null,
   "id": "0843a1cd",
   "metadata": {},
   "outputs": [],
   "source": [
    "# Number of interactions\n",
    "n_bandit_interactions=250\n",
    "\n",
    "# context\n",
    "context=torch.ones((n_bandit_interactions,d_context)) # Non-sensincal context\n",
    "#context=torch.arange(n_bandit_interactions)*torch.ones((1,d_context)) # Increasing context\n",
    "\n",
    "# optimal arm \n",
    "optimal_arm = true_bandit_environment.optimal_arm(a,context[:,None,:]) # One more dimension to pick arm per bandit interaction\n",
    "# Optimal reward can be pre-computed\n",
    "optimal_expected_rewards = true_bandit_environment.mean(\n",
    "                            optimal_arm,\n",
    "                            context\n",
    "                        )[None,:]\n",
    "# Number of realizations\n",
    "R=10\n",
    "# Bandit arms and rewards for all realizations\n",
    "played_arms=np.zeros((R,n_bandit_interactions,d_arms))\n",
    "observed_rewards=np.zeros((R,n_bandit_interactions))\n",
    "\n",
    "# Run realizations of bandits\n",
    "for r in np.arange(R):\n",
    "    print('************ r={}/{} **************'.format(r,R))\n",
    "    # Restart bandit\n",
    "    ucb_bandit.restart(n_bandit_interactions)\n",
    "    # Execute bandit realization\n",
    "    this_bandit = execute_contextual_bandit(ucb_bandit, true_bandit_environment, n_bandit_interactions, context)\n",
    "    # Keep played arms and observed rewards\n",
    "    played_arms[r]=this_bandit.played_arms\n",
    "    observed_rewards[r]=this_bandit.observed_rewards\n",
    "    print('**********************************'.format(r,R))"
   ]
  },
  {
   "cell_type": "code",
   "execution_count": null,
   "id": "54f2bf27",
   "metadata": {},
   "outputs": [],
   "source": [
    "# Plotting\n",
    "plot_rewards(observed_rewards, optimal_expected_rewards, n_bandit_interactions)\n",
    "plot_cumrewards(observed_rewards, optimal_expected_rewards, n_bandit_interactions)\n",
    "plot_cumregret(observed_rewards, optimal_expected_rewards, n_bandit_interactions)\n",
    "\n",
    "# Plotting (saved)\n",
    "fig_dir='./figs_ContextualGPBandit_linear_Gaussian'\n",
    "os.makedirs(fig_dir, exist_ok=True)\n",
    "plot_rewards(\n",
    "    observed_rewards,\n",
    "    optimal_expected_rewards,\n",
    "    n_bandit_interactions,\n",
    "    plot_filename='{}/rewards_ucb_R{}.pdf'.format(fig_dir, R),\n",
    ")\n",
    "plot_cumregret(observed_rewards,\n",
    "    optimal_expected_rewards,\n",
    "    n_bandit_interactions,\n",
    "    plot_filename='{}/cum_regret_ucb_R{}.pdf'.format(fig_dir, R),\n",
    ")"
   ]
  },
  {
   "cell_type": "code",
   "execution_count": null,
   "id": "183955b0",
   "metadata": {},
   "outputs": [],
   "source": []
  }
 ],
 "metadata": {
  "kernelspec": {
   "display_name": "Python 3",
   "language": "python",
   "name": "python3"
  },
  "language_info": {
   "codemirror_mode": {
    "name": "ipython",
    "version": 3
   },
   "file_extension": ".py",
   "mimetype": "text/x-python",
   "name": "python",
   "nbconvert_exporter": "python",
   "pygments_lexer": "ipython3",
   "version": "3.8.10"
  }
 },
 "nbformat": 4,
 "nbformat_minor": 5
}
